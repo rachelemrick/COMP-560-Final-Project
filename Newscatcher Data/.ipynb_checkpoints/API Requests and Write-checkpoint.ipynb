{
 "cells": [
  {
   "cell_type": "markdown",
   "id": "9826f850-2ccf-47de-972e-30a22ad96aae",
   "metadata": {},
   "source": [
    "One API call can bring a maximum of 100 articles, so set page_size parameter to 100. \n",
    "\n",
    "To use this notebook: just change the variable \"query\" to whatever you want to search for and run all cells in order. Remember to uncomment the line that actually does the API request! I'm just keeping it commented out to avoid accidentally calling it when I don't mean to."
   ]
  },
  {
   "cell_type": "code",
   "execution_count": 1,
   "id": "826bab69-1c56-45ea-b001-e555739a492b",
   "metadata": {},
   "outputs": [],
   "source": [
    "import requests\n",
    "import json"
   ]
  },
  {
   "cell_type": "code",
   "execution_count": 2,
   "id": "a7c4a179-5b56-403a-a411-9fee53b3b36d",
   "metadata": {},
   "outputs": [],
   "source": [
    "import requests\n",
    "\n",
    "url = \"https://api.newscatcherapi.com/v2/search\"\n",
    "key = \"klBfLpBs_WnisScAvUIg8YIOAEbIcirA1-GQZBfOgnE\"\n",
    "query = \"Republican\"\n",
    "\n",
    "querystring = {\"q\":query,\n",
    "               \"lang\":\"en\",\n",
    "               \"sort_by\":\"relevancy\",\n",
    "               \"page\":\"1\",\n",
    "               \"page_size\":\"100\"}\n",
    "\n",
    "headers = {\n",
    "    \"x-api-key\": key\n",
    "    }\n",
    "\n",
    "response = requests.request(\"GET\", url, headers=headers, params=querystring)    # we're getting our response in HTTP format\n",
    "json_response = response.json()    # Convert HTTP format to JSON format"
   ]
  },
  {
   "cell_type": "code",
   "execution_count": 3,
   "id": "1ae97f8c-d93b-45ca-a28e-213cf46b8f70",
   "metadata": {},
   "outputs": [],
   "source": [
    "# Save HTTP content\n",
    "with open(query+\"_response.txt\", \"w\") as f:\n",
    "    f.write(response.text)\n",
    "\n",
    "# Save JSON content\n",
    "with open(query+\"_response.json\", \"w\", encoding=\"utf-8\") as f:    # first param is file name to write to\n",
    "    json.dump(json_response, f, ensure_ascii=False, indent=4)     # the ensure_ascii and indent make the file more legible if opened in VSCode"
   ]
  }
 ],
 "metadata": {
  "kernelspec": {
   "display_name": "Python 3 (ipykernel)",
   "language": "python",
   "name": "python3"
  },
  "language_info": {
   "codemirror_mode": {
    "name": "ipython",
    "version": 3
   },
   "file_extension": ".py",
   "mimetype": "text/x-python",
   "name": "python",
   "nbconvert_exporter": "python",
   "pygments_lexer": "ipython3",
   "version": "3.11.5"
  }
 },
 "nbformat": 4,
 "nbformat_minor": 5
}
