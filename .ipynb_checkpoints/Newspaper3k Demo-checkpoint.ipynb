{
 "cells": [
  {
   "cell_type": "markdown",
   "id": "924987c2-133b-478b-9ff4-fb66cf360a67",
   "metadata": {},
   "source": [
    "To begin, make sure you've installed Newspaper3k onto your environment: pip install newspaper3k\n",
    "\n",
    "Also must install lxml_html_clean: pip install lxml_html_clean\n",
    "\n",
    "Shift + right click to bring up browser's native right click menu"
   ]
  },
  {
   "cell_type": "code",
   "execution_count": 1,
   "id": "0234a3cb-54cf-4bfc-940e-06a6d1a75aab",
   "metadata": {},
   "outputs": [],
   "source": [
    "import newspaper"
   ]
  },
  {
   "cell_type": "code",
   "execution_count": 5,
   "id": "f24b79b4-53ca-441b-8ec6-4d82e162594b",
   "metadata": {},
   "outputs": [
    {
     "name": "stdout",
     "output_type": "stream",
     "text": [
      "Get the date published:\n",
      "2024-04-01 00:00:00\n",
      "Get the text of the article:\n",
      "Wendy’s menu boards. Ben & Jerry’s grocery store freezers. Abercrombie & Fitch’s marketing. Many mainstays of the American customer experience are increasingly powered by artificial intelligence.\n",
      "\n",
      "The question is whether the technology will actually make companies more efficient.\n",
      "\n",
      "Rapid productivity improvement is the dream for both companies and economic policymakers. If output per hour holds steady, firms must either sacrifice profits or raise prices to pay for wage increases or investment projects. But when firms figure out how to produce more per working hour, it means that they can maintain or expand profits even as they pay or invest more. Economies experiencing productivity booms can experience rapid wage gains and quick growth without as much risk of rapid inflation.\n",
      "\n",
      "But many economists and officials seem dubious that A.I. — especially generative A.I., which is still in its infancy — has spread enough to show up in productivity data already.\n",
      "\n",
      "Jerome H. Powell, the Federal Reserve chair, recently suggested that A.I. “may” have the potential to increase productivity growth, “but probably not in the short run.” John C. Williams, president of the New York Fed, has made similar remarks, specifically citing the work of the Northwestern University economist Robert Gordon.\n"
     ]
    }
   ],
   "source": [
    "# Use newspaper to get the plaintext and metadata of an article\n",
    "\n",
    "nyt_url = \"https://www.nytimes.com/2024/04/01/business/economy/artificial-intelligence-productivity.html\"\n",
    "nyt_article = newspaper.Article(nyt_url)\n",
    "nyt_article.download()\n",
    "nyt_article.parse()\n",
    "\n",
    "print(\"Get the date published:\")\n",
    "print(nyt_article.publish_date)\n",
    "\n",
    "print(\"Get the text of the article:\")\n",
    "print(nyt_article.text)"
   ]
  },
  {
   "cell_type": "markdown",
   "id": "1f88111b-2781-44fc-a6c0-00d3513ae57c",
   "metadata": {},
   "source": [
    "Note that since the above article is from NYT, the full text isn't available. I assume that our code was blocked by a paywall.\n",
    "\n",
    "Next, examine the Source object."
   ]
  },
  {
   "cell_type": "code",
   "execution_count": 6,
   "id": "b2083b56-a70c-4e14-b8f9-c9fd7a7e1d10",
   "metadata": {},
   "outputs": [],
   "source": [
    "cnn = newspaper.build(\"https://www.cnn.com/\")    # create a Source object"
   ]
  },
  {
   "cell_type": "code",
   "execution_count": 17,
   "id": "9ee485ac-d9d9-4d4f-9d2f-ac9eefc77b5e",
   "metadata": {},
   "outputs": [
    {
     "name": "stdout",
     "output_type": "stream",
     "text": [
      "Number of recent articles the source object has: 512\n",
      "https://www.cnn.com/business/media\n",
      "\n"
     ]
    }
   ],
   "source": [
    "print(\"Number of recent articles the source object has:\", cnn.size())\n",
    "\n",
    "# We can get Articles from Sources\n",
    "cnn_article = cnn.articles[0]    # get the first article from CNN\n",
    "print(cnn_article.url)\n",
    "print(cnn_article.text)"
   ]
  },
  {
   "cell_type": "markdown",
   "id": "2ed8e664-5277-4e95-83ef-addbe66dbf3d",
   "metadata": {},
   "source": [
    "Newspaper3k doesn't seem to be very good at differentiating articles from links (e.g. it tried to label https://www.cnn.com/business/media as an article), and furthermore, it doesn't seem intended to search for articles from more than a few months ago. This tells me that we'll probably need to feed it URLs directly. I'll try giving it a URL to an old article."
   ]
  },
  {
   "cell_type": "code",
   "execution_count": 19,
   "id": "4d43a289-0038-4434-be1c-e230bce31676",
   "metadata": {},
   "outputs": [
    {
     "name": "stdout",
     "output_type": "stream",
     "text": [
      "Get the date published:\n",
      "None\n",
      "Get the text of the article:\n",
      "NASA’s Opportunity rover stretched out its rear wheels Thursday in preparation for rolling onto the surface of Mars, possibly a day earlier than expected, and the space agency said its twin Spirit “will be perfect again” after repairs of crippling software problems.\n",
      "\n",
      "Except for its robotic arm, Opportunity finished unfolding and standing up from its landing position and was ready to travel the final 10 feet (3 meters) from its lander to the surface of Mars, possibly late Saturday, project manager Pete Theisinger told The Associated Press.\n",
      "\n",
      "NASA earlier had said Opportunity could be ready to reach the surface by Sunday.\n",
      "\n",
      "Progress on Spirit\n",
      "\n",
      "Engineers continued to make progress on the Spirit rover, which has been sidelined for more than a week on the other side of Mars.\n",
      "\n",
      "They were preparing to wipe its flash memory clean of science and engineering files that have stymied its software, said Jennifer Trosper, a mission manager. The fix, likely to be made Friday, could restore Spirit to full health.\n",
      "\n",
      "“I think it will be perfect again,” Theisinger said.\n",
      "\n",
      "Spirit resumed acquiring science data Thursday, using its panoramic camera to focus on two rocks scientists have called Cake and Blanco.\n",
      "\n",
      "One step at a time\n",
      "\n",
      "To smooth Opportunity’s way to the Martian surface, engineers adjusted the forward tilt of its lander, pushing the platform downward so the tips of the preferred exit ramp dug into the Martian soil.\n",
      "\n",
      "IDL TIFF file Nasa\n",
      "\n",
      "Engineers consider roll-off the riskiest maneuver of the surface portion of each mission.\n",
      "\n",
      "Spirit has resumed using its high-gain antenna, which speeds transmission of the data needed to debug the rover’s problems.\n",
      "\n",
      "The first picture it took in more than a week was a simple black-and-white photograph showing the rover’s robotic arm pressed to a football-sized rock, exactly as it was poised before the problems started.\n",
      "\n",
      "“It’s more indication of Spirit’s slow progression back to health,” said Cornell University astronomer Steve Squyres, the mission’s main scientist.\n",
      "\n",
      "Twin missions\n",
      "\n",
      "NASA landed the $820 million pair of rovers on Mars to hunt for geologic evidence that would show whether the planet ever was wet enough to support life. Spirit landed Jan. 3, followed by Opportunity on Jan. 24.\n",
      "\n",
      "Nasa\n",
      "\n",
      "Opportunity remained in excellent shape, save for a 15-watt power loss that NASA continued to monitor. Engineers believe a heater in the shoulder of its robotic arm has been turning on every night, even though it’s needed only when the arm is in use. Theisinger said the heater did not present an immediate concern but could become an issue later in the mission, when it could cut into the rover’s ability to fully recharge its batteries.\n",
      "\n",
      "Spirit landed in Gusev Crater, a 95-mile-wide (150-kilometer-wide) depression that once may have contained a lake. Opportunity landed 6,600 miles (10,560 kilometers) away, on a broad plain called Meridiani Planum. It too ended up in a crater, this one just 20 yards (meters) across.\n",
      "\n",
      "NASA remained unsure of Opportunity’s precise location. The Mars Global Surveyor satellite, in orbit around Mars, is expected to take detailed pictures of the area during the weekend.\n"
     ]
    }
   ],
   "source": [
    "nbc_url = \"https://www.nbcnews.com/id/wbna4113064\"\n",
    "nbc_article = newspaper.Article(nbc_url)\n",
    "nbc_article.download()\n",
    "nbc_article.parse()\n",
    "\n",
    "print(\"Get the date published:\")\n",
    "print(nbc_article.publish_date)\n",
    "\n",
    "print(\"Get the text of the article:\")\n",
    "print(nbc_article.text)"
   ]
  },
  {
   "cell_type": "markdown",
   "id": "50f1f557-7466-4472-ace7-8bbfa629f0c8",
   "metadata": {},
   "source": [
    "This time, it did get the full text of the article, but it wasn't able to find the publication date. Maybe PyGoogleNews will be more efficient at getting the publication date, and we can use data from that instead?"
   ]
  },
  {
   "cell_type": "code",
   "execution_count": 20,
   "id": "7a01e70f-0564-4309-8ed7-c10a4be2f9a6",
   "metadata": {},
   "outputs": [
    {
     "name": "stdout",
     "output_type": "stream",
     "text": [
      "Get the date published:\n",
      "None\n",
      "Get the text of the article:\n",
      "CHICAGO (CBS) -- Chicago election officials say they have 500 different ballots ready to go, and they are hoping that the ballots get used in the primary Tuesday.\n",
      "\n",
      "As WBBM Newsradio's John Cody reports, Chicago Board of Elections chairman Langdon Neal says early and absentee voting has produced only 39,000 primary ballots case so far. By comparison, there were 81,000 ballots cast ahead of the last presidential primary in February 2008, election officials said.\n",
      "\n",
      "LISTEN: WBBM Newsradio's John Cody reports\n",
      "\n",
      "Podcast Your browser does not support the audio element.\n",
      "\n",
      "\"We've been a little disappointed with the results of early voting this far, but I remain optimistic that our voters will recognize that this is an important election,\" Neal said.\n",
      "\n",
      "Neal says the Board of Election Commissioners has ballots ready in four languages – English, Spanish, Chinese and Hindi. He says the contest is important at the federal, state and local levels, including a tight race for the Illinois Supreme Court in which appointed Justice Mary Jane Theis is up against Appellate Court justices Aurelia Pucinski and Joy Virginia Cunningham, and attorney Thomas Flannigan.\n",
      "\n",
      "Voters will encounter a long ballot filled with many judicial candidates that might take some time to complete.\n",
      "\n",
      "Also, a large number of voters may be surprised to find their elected officials have changed, due to the recent redistricting. There also may be more confusion for voters once assigned to nearly 300 city and Cook County precincts that no longer exist.\n",
      "\n",
      "To find out which precinct you live in, click here.\n",
      "\n",
      "Polling places open 6 a.m. Tuesday.\n"
     ]
    }
   ],
   "source": [
    "cbs_url = \"https://www.cbsnews.com/chicago/news/chicago-election-officials-hope-voters-turn-out-tuesday/?intcid=CNM-00-10abd1h\"\n",
    "cbs_article = newspaper.Article(cbs_url)\n",
    "cbs_article.download()\n",
    "cbs_article.parse()\n",
    "\n",
    "print(\"Get the date published:\")\n",
    "print(cbs_article.publish_date)\n",
    "\n",
    "print(\"Get the text of the article:\")\n",
    "print(cbs_article.text)"
   ]
  },
  {
   "cell_type": "markdown",
   "id": "a741832b-39dd-4300-a750-7186c1144c37",
   "metadata": {},
   "source": [
    "Again, there's no date. "
   ]
  },
  {
   "cell_type": "code",
   "execution_count": null,
   "id": "ff27c2f5-85c8-4585-8093-00038b2eb48a",
   "metadata": {},
   "outputs": [],
   "source": []
  }
 ],
 "metadata": {
  "kernelspec": {
   "display_name": "Python 3 (ipykernel)",
   "language": "python",
   "name": "python3"
  },
  "language_info": {
   "codemirror_mode": {
    "name": "ipython",
    "version": 3
   },
   "file_extension": ".py",
   "mimetype": "text/x-python",
   "name": "python",
   "nbconvert_exporter": "python",
   "pygments_lexer": "ipython3",
   "version": "3.11.5"
  }
 },
 "nbformat": 4,
 "nbformat_minor": 5
}
