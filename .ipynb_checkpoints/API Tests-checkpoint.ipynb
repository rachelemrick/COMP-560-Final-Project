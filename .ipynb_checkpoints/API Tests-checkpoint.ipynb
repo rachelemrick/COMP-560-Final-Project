{
 "cells": [
  {
   "cell_type": "markdown",
   "id": "dd8074d2-1359-4ec7-a462-dae31acf618f",
   "metadata": {},
   "source": [
    "Installed \"requests\" Python lib\n",
    "\n",
    "Installed \"newscatcherapi\" Python lib\n",
    "\n",
    "https://www.dataquest.io/blog/python-api-tutorial/\n",
    "\n",
    "https://docs.newscatcherapi.com/code-snippets/your-first-call/\n",
    "\n",
    "https://docs.newscatcherapi.com/api-docs/endpoints-1/authentication/"
   ]
  },
  {
   "cell_type": "code",
   "execution_count": 1,
   "id": "339a9fa5-6a29-4788-8c89-8be514841d97",
   "metadata": {},
   "outputs": [],
   "source": [
    "# Option 1 is to use requests lib\n",
    "import requests\n",
    "# More of the documentation appears to use request so maybe we should stick with this one?"
   ]
  },
  {
   "cell_type": "code",
   "execution_count": null,
   "id": "192781a0-bacc-4b8e-aed5-617375cdf93a",
   "metadata": {},
   "outputs": [],
   "source": [
    "# Option 2 is to use newscatcherapi sdk\n",
    "from newscatcherapi import NewsCatcherApiClient"
   ]
  },
  {
   "cell_type": "code",
   "execution_count": null,
   "id": "13c366db-c82e-4b22-92f8-40443af789e8",
   "metadata": {},
   "outputs": [],
   "source": [
    "newscatcherapi = NewsCatcherApiClient(x_api_key = 'key_here')"
   ]
  }
 ],
 "metadata": {
  "kernelspec": {
   "display_name": "Python 3 (ipykernel)",
   "language": "python",
   "name": "python3"
  },
  "language_info": {
   "codemirror_mode": {
    "name": "ipython",
    "version": 3
   },
   "file_extension": ".py",
   "mimetype": "text/x-python",
   "name": "python",
   "nbconvert_exporter": "python",
   "pygments_lexer": "ipython3",
   "version": "3.11.5"
  }
 },
 "nbformat": 4,
 "nbformat_minor": 5
}
