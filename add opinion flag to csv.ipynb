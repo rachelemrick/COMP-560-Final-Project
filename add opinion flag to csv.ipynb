{
 "cells": [
  {
   "cell_type": "code",
   "execution_count": 15,
   "metadata": {},
   "outputs": [
    {
     "name": "stdout",
     "output_type": "stream",
     "text": [
      "4640\n"
     ]
    }
   ],
   "source": [
    "# Removes duplicates from big dataframe and makes new excel/csv including opinion flag\n",
    "\n",
    "import pandas as pd\n",
    "\n",
    "data_combined = pd.read_excel('polarity_scores_fr.xlsx')\n",
    "\n",
    "\n",
    "print(len(data_combined))\n",
    "\n",
    "\n",
    "\n",
    "broken_links = ['https://www.cbsnews.com/video/eye-opener-unprecedented-assault-on-israel-by-iran-heightens-crisis-in-middle-east', 'https://www.cbsnews.com/video/eye-opener-first-7-jurors-selected-for-former-president-trumps-criminal-trial', 'https://www.cbsnews.com/texas/news/federal-judge-fines-texas-child-welfare-agency-100k-per-day-for-foster-care-failures', 'https://www.nbcnews.com/politics/arizona-lawmakers-repeal-abortion-ban-rcna148224', 'https://us.cnn.com/cnn-underscored/gifts/best-gifts-for-coffee-lovers', 'https://www.cnn.com/cnn-underscored/health-fitness/what-is-mezcal', 'https://www.foxnews.com/video/6351407565112', 'https://www.foxnews.com/video/6350976335112', 'https://radio.foxnews.com/2024/04/17/kennedy-mike-johnstons-policies-have-been-absolutely-awful-for-denver', 'https://radio.foxnews.com/2024/04/19/former-u-k-prime-minister-liz-truss-her-political-journey', 'https://radio.foxnews.com/2024/04/18/latest-woke-newsroom-battle-npr-editor-resigns-after-ripping-network-for-liberal-activism', 'https://radio.foxnews.com/2024/04/18/whos-funding-npr-editor-resignation-bias-backlash-sparks-debate-over-tax-dollars', 'https://www.washingtonpost.com/video/politics/these-republicans-suddenly-back-abortion-exceptions-for-rape/2024/04/17/cf335650-610f-445c-a879-458bc23a439e_video.html', 'https://www.cbsnews.com/video/first-jurors-seated-at-trumps-hush-money-criminal-trial', 'https://www.foxnews.com/video/6351029186112', 'https://www.foxnews.com/video/6351412400112']\n",
    "\n",
    "\n",
    "data_combined['Opinion'] = \"\"\n",
    "\n",
    "\n",
    "for sheet in pd.ExcelFile('article_data_fixed.xlsx').sheet_names:\n",
    "    data = pd.read_excel('article_data_fixed.xlsx', sheet_name=sheet)\n",
    "    for i in range(len(data[\"is_opinion\"])):\n",
    "        if data.loc[i, \"link\"] not in broken_links:\n",
    "            data_combined.loc[data_combined['Article URL'] == data.loc[i, \"link\"], \"Opinion\"] = data.loc[i, \"is_opinion\"]\n",
    "\n",
    "\n",
    "\n",
    "data_combined.to_csv('polarity_scores_fr.csv', index=False) \n",
    "\n",
    "data_combined_no_dupes = data_combined.drop_duplicates(subset=['Article URL'])\n",
    "\n",
    "data_combined.to_csv('polarity_scores_fr_no_dupes.csv', index=False) \n"
   ]
  },
  {
   "cell_type": "code",
   "execution_count": 3,
   "metadata": {},
   "outputs": [
    {
     "name": "stdout",
     "output_type": "stream",
     "text": [
      "4634\n",
      "16\n"
     ]
    }
   ],
   "source": [
    "\n",
    "print(len(broken_links))"
   ]
  }
 ],
 "metadata": {
  "kernelspec": {
   "display_name": "Python 3",
   "language": "python",
   "name": "python3"
  },
  "language_info": {
   "codemirror_mode": {
    "name": "ipython",
    "version": 3
   },
   "file_extension": ".py",
   "mimetype": "text/x-python",
   "name": "python",
   "nbconvert_exporter": "python",
   "pygments_lexer": "ipython3",
   "version": "3.10.11"
  }
 },
 "nbformat": 4,
 "nbformat_minor": 2
}
