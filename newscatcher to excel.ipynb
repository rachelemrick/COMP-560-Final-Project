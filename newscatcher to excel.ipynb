{
 "cells": [
  {
   "cell_type": "code",
   "execution_count": 21,
   "metadata": {},
   "outputs": [
    {
     "name": "stdout",
     "output_type": "stream",
     "text": [
      "62\n"
     ]
    }
   ],
   "source": [
    "# WARNING: This notebook creates a new excel sheet titled 'article_data.xlsx' and WILL\n",
    "# replace what is already there, not to mention it could run for several minutes as there is\n",
    "# a lot of data to process. Do NOT run this notebook unless you are sure of what you are doing.\n",
    "\n",
    "\n",
    "import pandas as pd\n",
    "import os\n",
    "import json\n",
    "\n",
    "count = 0\n",
    "\n",
    "for name in os.listdir(\"Newscatcher Data/topic-and-source-responses\"):\n",
    "    if name.endswith(\".json\"):\n",
    "        with open(\"Newscatcher Data/topic-and-source-responses/\" + name, 'r', encoding='utf8') as json_file:\n",
    "            json_obj = json.load(json_file)\n",
    "            if json_obj.get('status') == 'ok':\n",
    "                df = pd.DataFrame(json_obj['articles'])\n",
    "                with pd.ExcelWriter(\"article_data.xlsx\", mode='a', if_sheet_exists='replace') as writer:\n",
    "                    df.to_excel(writer, sheet_name=name[:-5])\n",
    "                count = count + 1\n",
    "        \n",
    "        \n",
    "print(count)\n"
   ]
  },
  {
   "cell_type": "code",
   "execution_count": null,
   "metadata": {},
   "outputs": [],
   "source": []
  }
 ],
 "metadata": {
  "kernelspec": {
   "display_name": "Python 3",
   "language": "python",
   "name": "python3"
  },
  "language_info": {
   "codemirror_mode": {
    "name": "ipython",
    "version": 3
   },
   "file_extension": ".py",
   "mimetype": "text/x-python",
   "name": "python",
   "nbconvert_exporter": "python",
   "pygments_lexer": "ipython3",
   "version": "3.10.11"
  }
 },
 "nbformat": 4,
 "nbformat_minor": 2
}
